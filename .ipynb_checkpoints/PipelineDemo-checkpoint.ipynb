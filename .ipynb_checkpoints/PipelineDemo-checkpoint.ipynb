{
 "cells": [
  {
   "cell_type": "markdown",
   "metadata": {
    "slideshow": {
     "slide_type": "slide"
    }
   },
   "source": [
    "# Pipelining Demo\n",
    "\n",
    "Purpose: \n",
    "- Demo Scikit-Learn's Pipeline Class. \n",
    "- Show why it's a valuable part of a data science machine learning pipeline.\n",
    "\n",
    "By: Chris Gian, XPO Logistics\n",
    "Sept. 16, 2018\n"
   ]
  },
  {
   "cell_type": "markdown",
   "metadata": {
    "slideshow": {
     "slide_type": "subslide"
    }
   },
   "source": [
    "# Agenda\n",
    "1. Generate Data \n",
    "2. Show Pipeline Steps\n",
    "    Transformations:\n",
    "        - Multiply\n",
    "        - Censor\n",
    "        - Scale\n",
    "    Classifer:\n",
    "    - Toy Classifer: Mean Check\n",
    "    \n",
    "3. Execute / Optimize Pipeline\n",
    "    - Define a grid of parameters to attempt\n",
    "    - Optimize with respect to \"scorer\" function\n"
   ]
  },
  {
   "cell_type": "markdown",
   "metadata": {
    "slideshow": {
     "slide_type": "slide"
    }
   },
   "source": [
    "# Generate Data"
   ]
  },
  {
   "cell_type": "code",
   "execution_count": 1,
   "metadata": {
    "scrolled": false,
    "slideshow": {
     "slide_type": "fragment"
    }
   },
   "outputs": [
    {
     "data": {
      "text/plain": [
       "(array([[ 0.61118028,  0.07396296, -0.49596905, ..., -0.51753365,\n",
       "         -0.37339927, -0.70521074],\n",
       "        [-0.55470506, -1.26634051, -1.03437283, ..., -0.05798395,\n",
       "          0.07377011,  0.60247721],\n",
       "        [ 0.72456704, -0.22624522,  1.28626861, ...,  1.06456868,\n",
       "         -0.45374431,  0.44663973],\n",
       "        ...,\n",
       "        [ 1.25561121,  0.40561759,  1.5316888 , ...,  0.71500701,\n",
       "          0.48056211,  0.40041203],\n",
       "        [ 1.72707396, -0.00827807,  1.20562808, ...,  0.69476103,\n",
       "          1.3238748 ,  0.93299664],\n",
       "        [-0.47240735, -0.03014427,  1.7691167 , ..., -0.56770578,\n",
       "          0.28012139,  0.3905229 ]]),\n",
       " array([0, 0, 0, 0, 1, 1, 0, 1, 0, 0, 1, 0, 1, 0, 0, 1, 0, 1, 0, 0, 0, 0,\n",
       "        1, 0, 0, 1, 1, 1, 0, 1, 0, 0, 1, 1, 1, 0, 1, 0, 1, 1, 1, 1, 1, 0,\n",
       "        0, 0, 0, 0, 1, 0, 0, 1, 0, 1, 0, 0, 1, 1, 1, 0, 1, 0, 1, 0, 0, 1,\n",
       "        1, 1, 0, 1, 1, 1, 1, 0, 1, 0, 1, 1, 1, 1, 0, 1, 0, 0, 1, 0, 1, 1,\n",
       "        0, 0, 1, 0, 0, 1, 1, 0, 1, 0, 0, 1]))"
      ]
     },
     "execution_count": 1,
     "metadata": {},
     "output_type": "execute_result"
    }
   ],
   "source": [
    "import numpy as np\n",
    "import pandas as pd\n",
    "from sklearn.datasets import samples_generator\n",
    "X, y = samples_generator.make_classification(n_informative=5, n_redundant=0, random_state=42)\n",
    "X,y"
   ]
  },
  {
   "cell_type": "markdown",
   "metadata": {
    "slideshow": {
     "slide_type": "slide"
    }
   },
   "source": [
    "## Pipeline Steps\n",
    "Create Transformation Classes with methods:\n",
    "- Fit\n",
    "- Transform\n",
    "\n",
    "\"Skip\" parameter to disable transform step"
   ]
  },
  {
   "cell_type": "markdown",
   "metadata": {
    "slideshow": {
     "slide_type": "subslide"
    }
   },
   "source": [
    "## Pipeline Steps\n",
    "**Multiplier**"
   ]
  },
  {
   "cell_type": "code",
   "execution_count": 2,
   "metadata": {
    "slideshow": {
     "slide_type": "fragment"
    }
   },
   "outputs": [
    {
     "name": "stdout",
     "output_type": "stream",
     "text": [
      "\n",
      "Before:\n",
      "    [[ 0.61118028  0.07396296 -0.49596905  0.41540916  0.55537682 -0.70362006\n",
      "  -1.17357021  0.96662085  0.34361859  0.22892446 -0.1681149   0.88246788\n",
      "  -0.5989244  -0.6228705   1.04853094 -0.37655265  0.7959065  -0.51753365\n",
      "  -0.37339927 -0.70521074]]\n",
      "After:\n",
      "    [[ 0.73341634  0.08875556 -0.59516286  0.498491    0.66645218 -0.84434408\n",
      "  -1.40828425  1.15994502  0.41234231  0.27470935 -0.20173787  1.05896146\n",
      "  -0.71870928 -0.7474446   1.25823713 -0.45186318  0.95508781 -0.62104038\n",
      "  -0.44807912 -0.84625288]]\n",
      "\n"
     ]
    }
   ],
   "source": [
    "from sklearn.base import BaseEstimator, TransformerMixin\n",
    "class multiplier(BaseEstimator,TransformerMixin):\n",
    "    def __init__(self,weight, skip = False):\n",
    "        self.weight = weight\n",
    "        self.skip = skip\n",
    "        \n",
    "    def fit(self, X,y=None):\n",
    "        return self\n",
    "    \n",
    "    def transform(self, X):\n",
    "        if self.skip:\n",
    "            return X\n",
    "        else:\n",
    "            return  X*self.weight\n",
    "        \n",
    "print(\n",
    "\"\"\"\n",
    "Before:\n",
    "    {0}\n",
    "After:\n",
    "    {1}\n",
    "\"\"\".format(X[:1],multiplier(weight =1.2).fit_transform(X)[:1]))\n"
   ]
  },
  {
   "cell_type": "markdown",
   "metadata": {
    "slideshow": {
     "slide_type": "subslide"
    }
   },
   "source": [
    "## Pipeline Steps\n",
    "**Min Max Scaler**"
   ]
  },
  {
   "cell_type": "code",
   "execution_count": 3,
   "metadata": {
    "slideshow": {
     "slide_type": "fragment"
    }
   },
   "outputs": [
    {
     "name": "stdout",
     "output_type": "stream",
     "text": [
      "\n",
      "Before:\n",
      "    [[ 0.61118028  0.07396296 -0.49596905  0.41540916  0.55537682 -0.70362006\n",
      "  -1.17357021  0.96662085  0.34361859  0.22892446 -0.1681149   0.88246788\n",
      "  -0.5989244  -0.6228705   1.04853094 -0.37655265  0.7959065  -0.51753365\n",
      "  -0.37339927 -0.70521074]]\n",
      "After:\n",
      "    [[0.57360936 0.42336322 0.47433272 0.47648083 0.72273303 0.30206294\n",
      "  0.3030466  0.6102198  0.57392337 0.6861751  0.46026553 0.54467303\n",
      "  0.42583132 0.35792775 0.74513815 0.44273105 0.59644715 0.42316892\n",
      "  0.4241669  0.30901421]]\n",
      "    \n"
     ]
    }
   ],
   "source": [
    "from sklearn.preprocessing import MinMaxScaler\n",
    "print(\n",
    "    \"\"\"\n",
    "Before:\n",
    "    {0}\n",
    "After:\n",
    "    {1}\n",
    "    \"\"\".format(\n",
    "        X[:1],\n",
    "        MinMaxScaler().fit_transform(X)[:1]))"
   ]
  },
  {
   "cell_type": "markdown",
   "metadata": {
    "slideshow": {
     "slide_type": "subslide"
    }
   },
   "source": [
    "## Pipeline Steps\n",
    "**Censor**"
   ]
  },
  {
   "cell_type": "code",
   "execution_count": 4,
   "metadata": {
    "slideshow": {
     "slide_type": "fragment"
    }
   },
   "outputs": [
    {
     "name": "stdout",
     "output_type": "stream",
     "text": [
      "\n",
      "Before:\n",
      "    [[ 0.61118028  0.07396296 -0.49596905  0.41540916  0.55537682 -0.70362006\n",
      "  -1.17357021  0.96662085  0.34361859  0.22892446 -0.1681149   0.88246788\n",
      "  -0.5989244  -0.6228705   1.04853094 -0.37655265  0.7959065  -0.51753365\n",
      "  -0.37339927 -0.70521074]]\n",
      "After:\n",
      "    [[0.6111802795578946, 0, 0, 0.41540916386044835, 0.5553768168069081, 0, 0, 0.9666208507629566, 0.34361858953521734, 0.22892445914495796, 0, 0.8824678818318511, 0, 0, 1.0485309385076005, 0, 0.795906504847474, 0, 0, 0]]\n",
      "    \n"
     ]
    }
   ],
   "source": [
    "class censor(BaseEstimator,TransformerMixin):\n",
    "    def __init__(self,censor_threshold, skip = False\n",
    "                ):\n",
    "        self.censor_threshold = censor_threshold\n",
    "        self.skip = skip\n",
    "        \n",
    "    def fit(self, X,y=None):\n",
    "        return self\n",
    "    \n",
    "    def transform(self, X):\n",
    "        if self.skip:\n",
    "            return X\n",
    "        else:\n",
    "            return [[0 if i<self.censor_threshold else i for i in x] for x in X] \n",
    "print(\n",
    "    \"\"\"\n",
    "Before:\n",
    "    {0}\n",
    "After:\n",
    "    {1}\n",
    "    \"\"\".format(X[:1],censor(censor_threshold=.1).fit_transform(X)[:1]))"
   ]
  },
  {
   "cell_type": "markdown",
   "metadata": {
    "slideshow": {
     "slide_type": "subslide"
    }
   },
   "source": [
    "## Pipeline Steps\n",
    "\n",
    "**Classifier**\n",
    "- For each row, take column-wise mean.\n",
    "- boolean of param >= tcolumn-wise mean value. \n",
    "\n",
    "Note: Classifier can be exchanged for elasticsearch lookup operation"
   ]
  },
  {
   "cell_type": "code",
   "execution_count": 5,
   "metadata": {
    "slideshow": {
     "slide_type": "fragment"
    }
   },
   "outputs": [],
   "source": [
    "from sklearn.base import ClassifierMixin\n",
    "class MyClassifier(BaseEstimator, ClassifierMixin):\n",
    "    def __init__(self, param):\n",
    "        self.param = param\n",
    "        pass\n",
    "    def fit(self, X, y):\n",
    "         # Some code\n",
    "        pass\n",
    "    def predict(self, X):\n",
    "        # average all columns\n",
    "        X = X.mean(axis = 1)\n",
    "        # if mean is >= lr, class = 1, else 0 \n",
    "        y_out = [1 if x >= self.param else 0 for x in X]\n",
    "        return y_out"
   ]
  },
  {
   "cell_type": "markdown",
   "metadata": {
    "slideshow": {
     "slide_type": "subslide"
    }
   },
   "source": [
    "## Pipeline Steps\n",
    "\n",
    "**Classifier with confusion matrix**"
   ]
  },
  {
   "cell_type": "code",
   "execution_count": 6,
   "metadata": {
    "slideshow": {
     "slide_type": "subslide"
    }
   },
   "outputs": [
    {
     "data": {
      "text/plain": [
       "array([[21, 29],\n",
       "       [21, 29]])"
      ]
     },
     "execution_count": 6,
     "metadata": {},
     "output_type": "execute_result"
    }
   ],
   "source": [
    "from sklearn.metrics import confusion_matrix\n",
    "test = MyClassifier(param=0)\n",
    "test.fit(X,y)\n",
    "y_pred = test.predict(X)\n",
    "y_true = y\n",
    "confusion_matrix(y_pred=y_pred, y_true=y_true)"
   ]
  },
  {
   "cell_type": "markdown",
   "metadata": {
    "slideshow": {
     "slide_type": "subslide"
    }
   },
   "source": [
    "## Pipeline Assembly"
   ]
  },
  {
   "cell_type": "code",
   "execution_count": 7,
   "metadata": {
    "slideshow": {
     "slide_type": "subslide"
    }
   },
   "outputs": [],
   "source": [
    "from sklearn.pipeline import Pipeline\n",
    "pipe = Pipeline([\n",
    "    ('mult',multiplier(weight = 1)),\n",
    "    ('censor',censor(censor_threshold= 1)),\n",
    "    ('scale',MinMaxScaler(feature_range=(0,1))),\n",
    "    ('Classifier',MyClassifier(param = .1))\n",
    "])"
   ]
  },
  {
   "cell_type": "markdown",
   "metadata": {
    "slideshow": {
     "slide_type": "slide"
    }
   },
   "source": [
    "# Pipeline Execution"
   ]
  },
  {
   "cell_type": "code",
   "execution_count": 8,
   "metadata": {
    "scrolled": false,
    "slideshow": {
     "slide_type": "fragment"
    }
   },
   "outputs": [
    {
     "data": {
      "text/plain": [
       "[0, 1, 1, 0, 0, 1, 1, 1, 0, 0]"
      ]
     },
     "execution_count": 8,
     "metadata": {},
     "output_type": "execute_result"
    }
   ],
   "source": [
    "# Instantiate Class\n",
    "p = pipe\n",
    "# Fit Method\n",
    "p.fit(X,y)\n",
    "# Predict Method\n",
    "Y_pred = p.predict(X)\n",
    "# First 10 Results\n",
    "Y_pred[:10]"
   ]
  },
  {
   "cell_type": "markdown",
   "metadata": {
    "slideshow": {
     "slide_type": "subslide"
    }
   },
   "source": [
    "# Optimization with Pipeline\n",
    "## Get Parameters"
   ]
  },
  {
   "cell_type": "code",
   "execution_count": 9,
   "metadata": {
    "scrolled": false,
    "slideshow": {
     "slide_type": "fragment"
    }
   },
   "outputs": [
    {
     "data": {
      "text/plain": [
       "{'memory': None,\n",
       " 'steps': [('mult', multiplier(skip=False, weight=1)),\n",
       "  ('censor', censor(censor_threshold=1, skip=False)),\n",
       "  ('scale', MinMaxScaler(copy=True, feature_range=(0, 1))),\n",
       "  ('Classifier', MyClassifier(param=0.1))],\n",
       " 'mult': multiplier(skip=False, weight=1),\n",
       " 'censor': censor(censor_threshold=1, skip=False),\n",
       " 'scale': MinMaxScaler(copy=True, feature_range=(0, 1)),\n",
       " 'Classifier': MyClassifier(param=0.1),\n",
       " 'mult__skip': False,\n",
       " 'mult__weight': 1,\n",
       " 'censor__censor_threshold': 1,\n",
       " 'censor__skip': False,\n",
       " 'scale__copy': True,\n",
       " 'scale__feature_range': (0, 1),\n",
       " 'Classifier__param': 0.1}"
      ]
     },
     "execution_count": 9,
     "metadata": {},
     "output_type": "execute_result"
    }
   ],
   "source": [
    "pipe.get_params()"
   ]
  },
  {
   "cell_type": "markdown",
   "metadata": {
    "slideshow": {
     "slide_type": "subslide"
    }
   },
   "source": [
    "# Optimization with Pipeline\n",
    "## Define Grid Sweep\n",
    "This is where we can add, remove, alter transformation steps."
   ]
  },
  {
   "cell_type": "code",
   "execution_count": 10,
   "metadata": {
    "slideshow": {
     "slide_type": "fragment"
    }
   },
   "outputs": [],
   "source": [
    "param_grid = {\n",
    "    'Classifier__param': np.random.random_sample(3),\n",
    "    'mult__skip': [False,True],\n",
    "    'mult__weight': np.random.random_sample(3),\n",
    "    'censor__skip': [False,True],\n",
    "    'censor__censor_threshold':np.random.random_sample(3)\n",
    "  }"
   ]
  },
  {
   "cell_type": "markdown",
   "metadata": {
    "slideshow": {
     "slide_type": "subslide"
    }
   },
   "source": [
    "# Optimization with Pipeline\n",
    "## Executing Gridsearch\n",
    "- two fold cross validation\n",
    "- accuracy metric\n",
    "\n",
    "[Customer Scorer](http://scikit-learn.org/stable/auto_examples/model_selection/plot_multi_metric_evaluation.html#sphx-glr-auto-examples-model-selection-plot-multi-metric-evaluation-py)\n",
    "\n",
    "\n",
    "[Disable CV](https://stackoverflow.com/questions/44636370/scikit-learn-gridsearchcv-without-cross-validation-unsupervised-learning/44661188)\n",
    "\n",
    "\n"
   ]
  },
  {
   "cell_type": "code",
   "execution_count": 11,
   "metadata": {
    "slideshow": {
     "slide_type": "fragment"
    }
   },
   "outputs": [
    {
     "data": {
      "text/plain": [
       "GridSearchCV(cv=2, error_score='raise',\n",
       "       estimator=Pipeline(memory=None,\n",
       "     steps=[('mult', multiplier(skip=False, weight=1)), ('censor', censor(censor_threshold=1, skip=False)), ('scale', MinMaxScaler(copy=True, feature_range=(0, 1))), ('Classifier', MyClassifier(param=0.1))]),\n",
       "       fit_params=None, iid=True, n_jobs=1,\n",
       "       param_grid={'Classifier__param': array([0.23049, 0.53632, 0.70863]), 'mult__skip': [False, True], 'mult__weight': array([0.37311, 0.96173, 0.69051]), 'censor__skip': [False, True], 'censor__censor_threshold': array([0.94052, 0.28009, 0.42002])},\n",
       "       pre_dispatch='2*n_jobs', refit=True, return_train_score=True,\n",
       "       scoring='accuracy', verbose=0)"
      ]
     },
     "execution_count": 11,
     "metadata": {},
     "output_type": "execute_result"
    }
   ],
   "source": [
    "from sklearn.model_selection import GridSearchCV\n",
    "\n",
    "grid = GridSearchCV(pipe, cv=2, param_grid=param_grid,return_train_score=True,scoring='accuracy')\n",
    "grid.fit(X,y)"
   ]
  },
  {
   "cell_type": "markdown",
   "metadata": {
    "slideshow": {
     "slide_type": "subslide"
    }
   },
   "source": [
    "# Optimization with Pipeline\n",
    "## Look at Best Performance"
   ]
  },
  {
   "cell_type": "code",
   "execution_count": 12,
   "metadata": {
    "scrolled": false,
    "slideshow": {
     "slide_type": "fragment"
    }
   },
   "outputs": [
    {
     "name": "stdout",
     "output_type": "stream",
     "text": [
      "\n",
      "Best Estimator:\n",
      "    Pipeline(memory=None,\n",
      "     steps=[('mult', multiplier(skip=False, weight=0.3731063934850768)), ('censor', censor(censor_threshold=0.2800871331039577, skip=False)), ('scale', MinMaxScaler(copy=True, feature_range=(0, 1))), ('Classifier', MyClassifier(param=0.23049036517641797))])\n",
      "    \n"
     ]
    }
   ],
   "source": [
    "print(\n",
    "    \"\"\"\n",
    "Best Estimator:\n",
    "    {0}\n",
    "    \"\"\".format(grid.best_estimator_))    "
   ]
  },
  {
   "cell_type": "markdown",
   "metadata": {
    "slideshow": {
     "slide_type": "subslide"
    }
   },
   "source": [
    "# Optimization with Pipeline\n",
    "## Look at Best Performance"
   ]
  },
  {
   "cell_type": "code",
   "execution_count": 13,
   "metadata": {
    "scrolled": false,
    "slideshow": {
     "slide_type": "fragment"
    }
   },
   "outputs": [
    {
     "data": {
      "text/html": [
       "<div>\n",
       "<style scoped>\n",
       "    .dataframe tbody tr th:only-of-type {\n",
       "        vertical-align: middle;\n",
       "    }\n",
       "\n",
       "    .dataframe tbody tr th {\n",
       "        vertical-align: top;\n",
       "    }\n",
       "\n",
       "    .dataframe thead th {\n",
       "        text-align: right;\n",
       "    }\n",
       "</style>\n",
       "<table border=\"1\" class=\"dataframe\">\n",
       "  <thead>\n",
       "    <tr style=\"text-align: right;\">\n",
       "      <th></th>\n",
       "      <th>rank_test_score</th>\n",
       "      <th>mean_test_score</th>\n",
       "      <th>Parameter_Classifier__param</th>\n",
       "      <th>Parameter_censor__censor_threshold</th>\n",
       "      <th>Parameter_censor__skip</th>\n",
       "      <th>Parameter_mult__skip</th>\n",
       "      <th>Parameter_mult__weight</th>\n",
       "    </tr>\n",
       "  </thead>\n",
       "  <tbody>\n",
       "    <tr>\n",
       "      <th>0</th>\n",
       "      <td>18</td>\n",
       "      <td>0.50</td>\n",
       "      <td>0.23049</td>\n",
       "      <td>0.940522</td>\n",
       "      <td>False</td>\n",
       "      <td>False</td>\n",
       "      <td>0.373106</td>\n",
       "    </tr>\n",
       "    <tr>\n",
       "      <th>1</th>\n",
       "      <td>15</td>\n",
       "      <td>0.52</td>\n",
       "      <td>0.23049</td>\n",
       "      <td>0.940522</td>\n",
       "      <td>False</td>\n",
       "      <td>False</td>\n",
       "      <td>0.961727</td>\n",
       "    </tr>\n",
       "    <tr>\n",
       "      <th>2</th>\n",
       "      <td>16</td>\n",
       "      <td>0.51</td>\n",
       "      <td>0.23049</td>\n",
       "      <td>0.940522</td>\n",
       "      <td>False</td>\n",
       "      <td>False</td>\n",
       "      <td>0.690506</td>\n",
       "    </tr>\n",
       "    <tr>\n",
       "      <th>3</th>\n",
       "      <td>2</td>\n",
       "      <td>0.54</td>\n",
       "      <td>0.23049</td>\n",
       "      <td>0.940522</td>\n",
       "      <td>False</td>\n",
       "      <td>True</td>\n",
       "      <td>0.373106</td>\n",
       "    </tr>\n",
       "    <tr>\n",
       "      <th>4</th>\n",
       "      <td>2</td>\n",
       "      <td>0.54</td>\n",
       "      <td>0.23049</td>\n",
       "      <td>0.940522</td>\n",
       "      <td>False</td>\n",
       "      <td>True</td>\n",
       "      <td>0.961727</td>\n",
       "    </tr>\n",
       "    <tr>\n",
       "      <th>5</th>\n",
       "      <td>2</td>\n",
       "      <td>0.54</td>\n",
       "      <td>0.23049</td>\n",
       "      <td>0.940522</td>\n",
       "      <td>False</td>\n",
       "      <td>True</td>\n",
       "      <td>0.690506</td>\n",
       "    </tr>\n",
       "    <tr>\n",
       "      <th>6</th>\n",
       "      <td>18</td>\n",
       "      <td>0.50</td>\n",
       "      <td>0.23049</td>\n",
       "      <td>0.940522</td>\n",
       "      <td>True</td>\n",
       "      <td>False</td>\n",
       "      <td>0.373106</td>\n",
       "    </tr>\n",
       "    <tr>\n",
       "      <th>7</th>\n",
       "      <td>18</td>\n",
       "      <td>0.50</td>\n",
       "      <td>0.23049</td>\n",
       "      <td>0.940522</td>\n",
       "      <td>True</td>\n",
       "      <td>False</td>\n",
       "      <td>0.961727</td>\n",
       "    </tr>\n",
       "    <tr>\n",
       "      <th>8</th>\n",
       "      <td>18</td>\n",
       "      <td>0.50</td>\n",
       "      <td>0.23049</td>\n",
       "      <td>0.940522</td>\n",
       "      <td>True</td>\n",
       "      <td>False</td>\n",
       "      <td>0.690506</td>\n",
       "    </tr>\n",
       "    <tr>\n",
       "      <th>9</th>\n",
       "      <td>18</td>\n",
       "      <td>0.50</td>\n",
       "      <td>0.23049</td>\n",
       "      <td>0.940522</td>\n",
       "      <td>True</td>\n",
       "      <td>True</td>\n",
       "      <td>0.373106</td>\n",
       "    </tr>\n",
       "  </tbody>\n",
       "</table>\n",
       "</div>"
      ],
      "text/plain": [
       "   rank_test_score  mean_test_score  Parameter_Classifier__param  \\\n",
       "0               18             0.50                      0.23049   \n",
       "1               15             0.52                      0.23049   \n",
       "2               16             0.51                      0.23049   \n",
       "3                2             0.54                      0.23049   \n",
       "4                2             0.54                      0.23049   \n",
       "5                2             0.54                      0.23049   \n",
       "6               18             0.50                      0.23049   \n",
       "7               18             0.50                      0.23049   \n",
       "8               18             0.50                      0.23049   \n",
       "9               18             0.50                      0.23049   \n",
       "\n",
       "   Parameter_censor__censor_threshold  Parameter_censor__skip  \\\n",
       "0                            0.940522                   False   \n",
       "1                            0.940522                   False   \n",
       "2                            0.940522                   False   \n",
       "3                            0.940522                   False   \n",
       "4                            0.940522                   False   \n",
       "5                            0.940522                   False   \n",
       "6                            0.940522                    True   \n",
       "7                            0.940522                    True   \n",
       "8                            0.940522                    True   \n",
       "9                            0.940522                    True   \n",
       "\n",
       "   Parameter_mult__skip  Parameter_mult__weight  \n",
       "0                 False                0.373106  \n",
       "1                 False                0.961727  \n",
       "2                 False                0.690506  \n",
       "3                  True                0.373106  \n",
       "4                  True                0.961727  \n",
       "5                  True                0.690506  \n",
       "6                 False                0.373106  \n",
       "7                 False                0.961727  \n",
       "8                 False                0.690506  \n",
       "9                  True                0.373106  "
      ]
     },
     "execution_count": 13,
     "metadata": {},
     "output_type": "execute_result"
    }
   ],
   "source": [
    "df_out = pd.DataFrame(grid.cv_results_)[['rank_test_score','params','mean_test_score']]\n",
    "params = pd.DataFrame([i for i in df_out.params])\n",
    "params.columns = [\"Parameter_\"+i for i in params.columns]\n",
    "pd.concat([df_out.drop(columns = 'params'),params], axis = 1).head(10)"
   ]
  }
 ],
 "metadata": {
  "celltoolbar": "Slideshow",
  "kernelspec": {
   "display_name": "Python 3",
   "language": "python",
   "name": "python3"
  },
  "language_info": {
   "codemirror_mode": {
    "name": "ipython",
    "version": 3
   },
   "file_extension": ".py",
   "mimetype": "text/x-python",
   "name": "python",
   "nbconvert_exporter": "python",
   "pygments_lexer": "ipython3",
   "version": "3.6.5"
  }
 },
 "nbformat": 4,
 "nbformat_minor": 2
}
